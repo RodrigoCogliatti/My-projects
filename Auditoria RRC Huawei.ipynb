{
 "cells": [
  {
   "cell_type": "code",
   "execution_count": 1,
   "metadata": {},
   "outputs": [],
   "source": [
    "import pandas as pd\n",
    "from pandas import Series,DataFrame\n",
    "import numpy as np\n",
    "import os\n",
    "\n",
    "#seleção da pasta\n",
    "os.chdir('C:/Users/f8026379/Documents/MANP/Budget 2019/PAYG/Huawei/Auditoria_Q4')\n",
    "\n",
    "#função para extração do dia do time stamp \n",
    "def dia(d):\n",
    "    return d[0:10]\n",
    "\n",
    "#abertura de arquivos\n",
    "df_hua_a=pd.read_csv('KpiSelection__NETWORK_ENODEB_DEZ.csv',sep='\\t')\n",
    "df_hua_b=pd.read_csv('KpiSelection__NETWORK_NEID_DEZ.csv',sep='\\t')\n",
    "\n",
    "\n",
    "df_hua_a['NAME']=df_hua_a['ENODEB_NAME']\n",
    "df_hua_b['NAME']=df_hua_b['NEID_NAME']\n",
    "df_hua_a['RRC']=df_hua_a['Número máximo de usuários conectados em RRC (acumulado no espaço)']\n",
    "df_hua_b['RRC']=df_hua_b['Número máximo de usuários conectados em RRC (acumulado no espaço)']\n",
    "df_hua_a.drop(columns=['ENODEB_NAME','Número máximo de usuários conectados em RRC (acumulado no espaço)'],inplace=True)\n",
    "df_hua_b.drop(columns=['NEID_NAME','Número máximo de usuários conectados em RRC (acumulado no espaço)'],inplace=True)\n",
    "df_hua_a.dropna(axis=0,inplace=True,)\n",
    "df_hua_b.dropna(axis=0,inplace=True,)\n",
    "\n",
    "df_hua=pd.concat([df_hua_b,df_hua_a],axis=0,ignore_index=True)\n",
    "\n",
    "#coluna dia do mês\n",
    "df_hua['DIA']=df_hua.PERIOD_START_TIME.apply(dia)\n",
    "\n",
    "#calculo do RRC médio\n",
    "df_hua_max=df_hua.groupby(by=['NAME','DIA']).max()\n",
    "df_hua_sum_max=df_hua_max.groupby('NAME').sum()\n",
    "df_hua_MAX=df_hua_max.groupby('NAME').max()\n",
    "df_rrc_hua=pd.merge(df_hua_sum_max,df_hua_MAX,on='NAME')\n",
    "df_rrc_hua['RRC_MEAN']=(df_rrc_hua['RRC_x'] - df_rrc_hua['RRC_y'])/30\n",
    "detalhe=df_hua_max.unstack()\n",
    "\n",
    "#geração do report\n",
    "writer = pd.ExcelWriter('Report_hua_DEZ.xlsx', engine='xlsxwriter')\n",
    "df_rrc_hua.to_excel(writer, 'Base')\n",
    "detalhe.to_excel(writer,'detalhe')\n",
    "writer.save()"
   ]
  },
  {
   "cell_type": "code",
   "execution_count": 25,
   "metadata": {},
   "outputs": [],
   "source": [
    "def d_int(d):\n",
    "    return np.int(d[8:10])"
   ]
  },
  {
   "cell_type": "code",
   "execution_count": 95,
   "metadata": {},
   "outputs": [
    {
     "data": {
      "text/html": [
       "<div>\n",
       "<style scoped>\n",
       "    .dataframe tbody tr th:only-of-type {\n",
       "        vertical-align: middle;\n",
       "    }\n",
       "\n",
       "    .dataframe tbody tr th {\n",
       "        vertical-align: top;\n",
       "    }\n",
       "\n",
       "    .dataframe thead th {\n",
       "        text-align: right;\n",
       "    }\n",
       "</style>\n",
       "<table border=\"1\" class=\"dataframe\">\n",
       "  <thead>\n",
       "    <tr style=\"text-align: right;\">\n",
       "      <th></th>\n",
       "      <th></th>\n",
       "      <th>PERIOD_START_TIME</th>\n",
       "      <th>RRC</th>\n",
       "    </tr>\n",
       "    <tr>\n",
       "      <th>NAME</th>\n",
       "      <th>DIA</th>\n",
       "      <th></th>\n",
       "      <th></th>\n",
       "    </tr>\n",
       "  </thead>\n",
       "  <tbody>\n",
       "    <tr>\n",
       "      <th rowspan=\"5\" valign=\"top\">18NLAACE02</th>\n",
       "      <th>2019-08-09</th>\n",
       "      <td>2019-08-09 23:00:00</td>\n",
       "      <td>276.0</td>\n",
       "    </tr>\n",
       "    <tr>\n",
       "      <th>2019-08-10</th>\n",
       "      <td>2019-08-10 23:00:00</td>\n",
       "      <td>500.0</td>\n",
       "    </tr>\n",
       "    <tr>\n",
       "      <th>2019-08-11</th>\n",
       "      <td>2019-08-11 23:00:00</td>\n",
       "      <td>461.0</td>\n",
       "    </tr>\n",
       "    <tr>\n",
       "      <th>2019-08-12</th>\n",
       "      <td>2019-08-12 23:00:00</td>\n",
       "      <td>501.0</td>\n",
       "    </tr>\n",
       "    <tr>\n",
       "      <th>2019-08-13</th>\n",
       "      <td>2019-08-13 09:00:00</td>\n",
       "      <td>476.0</td>\n",
       "    </tr>\n",
       "  </tbody>\n",
       "</table>\n",
       "</div>"
      ],
      "text/plain": [
       "                         PERIOD_START_TIME    RRC\n",
       "NAME       DIA                                   \n",
       "18NLAACE02 2019-08-09  2019-08-09 23:00:00  276.0\n",
       "           2019-08-10  2019-08-10 23:00:00  500.0\n",
       "           2019-08-11  2019-08-11 23:00:00  461.0\n",
       "           2019-08-12  2019-08-12 23:00:00  501.0\n",
       "           2019-08-13  2019-08-13 09:00:00  476.0"
      ]
     },
     "execution_count": 95,
     "metadata": {},
     "output_type": "execute_result"
    }
   ],
   "source": [
    "df_hua_max.head()"
   ]
  },
  {
   "cell_type": "code",
   "execution_count": 28,
   "metadata": {},
   "outputs": [],
   "source": [
    "df_hua['dia_mes']=df_hua.DIA.apply(d_int)"
   ]
  },
  {
   "cell_type": "code",
   "execution_count": 30,
   "metadata": {},
   "outputs": [
    {
     "data": {
      "text/html": [
       "<div>\n",
       "<style scoped>\n",
       "    .dataframe tbody tr th:only-of-type {\n",
       "        vertical-align: middle;\n",
       "    }\n",
       "\n",
       "    .dataframe tbody tr th {\n",
       "        vertical-align: top;\n",
       "    }\n",
       "\n",
       "    .dataframe thead th {\n",
       "        text-align: right;\n",
       "    }\n",
       "</style>\n",
       "<table border=\"1\" class=\"dataframe\">\n",
       "  <thead>\n",
       "    <tr style=\"text-align: right;\">\n",
       "      <th></th>\n",
       "      <th>PERIOD_START_TIME</th>\n",
       "      <th>NAME</th>\n",
       "      <th>RRC</th>\n",
       "      <th>DIA</th>\n",
       "      <th>dia_mes</th>\n",
       "    </tr>\n",
       "  </thead>\n",
       "  <tbody>\n",
       "    <tr>\n",
       "      <th>2835194</th>\n",
       "      <td>2019-08-31 19:00:00</td>\n",
       "      <td>VOLTE_SCR-EnB1</td>\n",
       "      <td>2.0</td>\n",
       "      <td>2019-08-31</td>\n",
       "      <td>31</td>\n",
       "    </tr>\n",
       "    <tr>\n",
       "      <th>2835195</th>\n",
       "      <td>2019-08-31 20:00:00</td>\n",
       "      <td>VOLTE_SCR-EnB1</td>\n",
       "      <td>3.0</td>\n",
       "      <td>2019-08-31</td>\n",
       "      <td>31</td>\n",
       "    </tr>\n",
       "    <tr>\n",
       "      <th>2835196</th>\n",
       "      <td>2019-08-31 21:00:00</td>\n",
       "      <td>VOLTE_SCR-EnB1</td>\n",
       "      <td>1.0</td>\n",
       "      <td>2019-08-31</td>\n",
       "      <td>31</td>\n",
       "    </tr>\n",
       "    <tr>\n",
       "      <th>2835197</th>\n",
       "      <td>2019-08-31 22:00:00</td>\n",
       "      <td>VOLTE_SCR-EnB1</td>\n",
       "      <td>1.0</td>\n",
       "      <td>2019-08-31</td>\n",
       "      <td>31</td>\n",
       "    </tr>\n",
       "    <tr>\n",
       "      <th>2835198</th>\n",
       "      <td>2019-08-31 23:00:00</td>\n",
       "      <td>VOLTE_SCR-EnB1</td>\n",
       "      <td>1.0</td>\n",
       "      <td>2019-08-31</td>\n",
       "      <td>31</td>\n",
       "    </tr>\n",
       "  </tbody>\n",
       "</table>\n",
       "</div>"
      ],
      "text/plain": [
       "           PERIOD_START_TIME            NAME  RRC         DIA  dia_mes\n",
       "2835194  2019-08-31 19:00:00  VOLTE_SCR-EnB1  2.0  2019-08-31       31\n",
       "2835195  2019-08-31 20:00:00  VOLTE_SCR-EnB1  3.0  2019-08-31       31\n",
       "2835196  2019-08-31 21:00:00  VOLTE_SCR-EnB1  1.0  2019-08-31       31\n",
       "2835197  2019-08-31 22:00:00  VOLTE_SCR-EnB1  1.0  2019-08-31       31\n",
       "2835198  2019-08-31 23:00:00  VOLTE_SCR-EnB1  1.0  2019-08-31       31"
      ]
     },
     "execution_count": 30,
     "metadata": {},
     "output_type": "execute_result"
    }
   ],
   "source": [
    "df_hua=df_hua.dia_mes.isin()"
   ]
  },
  {
   "cell_type": "code",
   "execution_count": 32,
   "metadata": {},
   "outputs": [],
   "source": [
    "df_hua_p=df_hua[df_hua['dia_mes']>8]"
   ]
  },
  {
   "cell_type": "code",
   "execution_count": 33,
   "metadata": {},
   "outputs": [],
   "source": [
    "\n",
    "#calculo do RRC médio\n",
    "df_hua_max=df_hua_p.groupby(by=['NAME','DIA']).max()\n",
    "df_hua_sum_max=df_hua_max.groupby('NAME').sum()\n",
    "df_hua_MAX=df_hua_max.groupby('NAME').max()\n",
    "df_rrc_hua=pd.merge(df_hua_sum_max,df_hua_MAX,on='NAME')\n",
    "df_rrc_hua['RRC_MEAN']=(df_rrc_hua['RRC_x'] - df_rrc_hua['RRC_y'])/22\n",
    "\n",
    "\n",
    "#geração do report\n",
    "writer = pd.ExcelWriter('Report_hua_ago.xlsx', engine='xlsxwriter')\n",
    "df_rrc_hua.to_excel(writer, 'Base')\n",
    "writer.save()"
   ]
  },
  {
   "cell_type": "code",
   "execution_count": null,
   "metadata": {},
   "outputs": [],
   "source": [
    "import pandas as pd\n",
    "from pandas import Series,DataFrame\n",
    "import numpy as np\n",
    "import os\n",
    "\n",
    "#seleção da pasta\n",
    "os.chdir('C:/Users/f8026379/Documents/MANP/Budget 2019/PAYG/Huawei')\n",
    "\n",
    "#função para extração do dia do time stamp \n",
    "def dia(d):\n",
    "    return d[0:10]\n",
    "\n",
    "#abertura de arquivos\n",
    "df_hua_a=pd.read_csv('KpiSelection__NETWORK_hr_2019-09-01_2019-09-30_20191017113019822_58_308.csv',sep='\\t')\n",
    "df_hua_b=pd.read_csv('KpiSelection__NETWORK_hr_2019-09-01_2019-09-30_20191017105256883_20_824.csv',sep='\\t')\n",
    "\n",
    "\n",
    "df_hua_a['NAME']=df_hua_a['ENODEB_NAME']\n",
    "df_hua_b['NAME']=df_hua_b['NEID_NAME']\n",
    "df_hua_a['RRC']=df_hua_a['Número máximo de usuários conectados em RRC (acumulado no espaço)']\n",
    "df_hua_b['RRC']=df_hua_b['Número máximo de usuários conectados em RRC (acumulado no espaço)']\n",
    "df_hua_a.drop(columns=['ENODEB_NAME','Número máximo de usuários conectados em RRC (acumulado no espaço)'],inplace=True)\n",
    "df_hua_b.drop(columns=['NEID_NAME','Número máximo de usuários conectados em RRC (acumulado no espaço)'],inplace=True)\n",
    "df_hua_a.dropna(axis=0,inplace=True,)\n",
    "df_hua_b.dropna(axis=0,inplace=True,)\n",
    "\n",
    "df_hua=pd.concat([df_hua_b,df_hua_a],axis=0,ignore_index=True)\n",
    "\n",
    "#coluna dia do mês\n",
    "df_hua['DIA']=df_hua.PERIOD_START_TIME.apply(dia)\n",
    "\n",
    "#calculo do RRC médio\n",
    "df_hua_max=df_hua.groupby(by=['NAME','DIA']).max()\n",
    "df_hua_sum_max=df_hua_max.groupby('NAME').sum()\n",
    "df_hua_MAX=df_hua_max.groupby('NAME').max()\n",
    "df_rrc_hua=pd.merge(df_hua_sum_max,df_hua_MAX,on='NAME')\n",
    "df_rrc_hua['RRC_MEAN']=(df_rrc_hua['RRC_x'] - df_rrc_hua['RRC_y'])/29\n",
    "\n",
    "\n",
    "#geração do report\n",
    "writer = pd.ExcelWriter('Report_hua_set.xlsx', engine='xlsxwriter')\n",
    "df_rrc_hua.to_excel(writer, 'Base')\n",
    "writer.save()"
   ]
  },
  {
   "cell_type": "code",
   "execution_count": 1,
   "metadata": {
    "scrolled": true
   },
   "outputs": [
    {
     "name": "stderr",
     "output_type": "stream",
     "text": [
      "C:\\Users\\f8026379\\AppData\\Local\\Continuum\\anaconda3\\lib\\site-packages\\IPython\\core\\interactiveshell.py:3049: DtypeWarning: Columns (2,3) have mixed types. Specify dtype option on import or set low_memory=False.\n",
      "  interactivity=interactivity, compiler=compiler, result=result)\n"
     ]
    }
   ],
   "source": [
    "import pandas as pd\n",
    "from pandas import Series,DataFrame\n",
    "import numpy as np\n",
    "import os\n",
    "\n",
    "#seleção da pasta\n",
    "os.chdir('C:/Users/f8026379/Documents/MANP/Budget 2019/PAYG/Huawei')\n",
    "\n",
    "#função para extração do dia do time stamp \n",
    "def dia(d):\n",
    "    return d[0:10]\n",
    "\n",
    "#abertura de arquivos\n",
    "df_hua_a=pd.read_csv('KpiSelection__NETWORK_hr_2019-09-01_2019-09-30_20191017113019822_58_308.csv',sep='\\t')\n",
    "df_hua_b=pd.read_csv('KpiSelection__NETWORK_hr_2019-09-01_2019-09-30_20191017105256883_20_824.csv',sep='\\t')"
   ]
  },
  {
   "cell_type": "code",
   "execution_count": 69,
   "metadata": {},
   "outputs": [
    {
     "data": {
      "text/html": [
       "<div>\n",
       "<style scoped>\n",
       "    .dataframe tbody tr th:only-of-type {\n",
       "        vertical-align: middle;\n",
       "    }\n",
       "\n",
       "    .dataframe tbody tr th {\n",
       "        vertical-align: top;\n",
       "    }\n",
       "\n",
       "    .dataframe thead th {\n",
       "        text-align: right;\n",
       "    }\n",
       "</style>\n",
       "<table border=\"1\" class=\"dataframe\">\n",
       "  <thead>\n",
       "    <tr style=\"text-align: right;\">\n",
       "      <th></th>\n",
       "      <th>PERIOD_START_TIME</th>\n",
       "      <th>NEID_NAME</th>\n",
       "      <th>CELL_NAME</th>\n",
       "      <th>cellID</th>\n",
       "      <th>Número máximo de usuários conectados em RRC (acumulado no espaço)</th>\n",
       "    </tr>\n",
       "  </thead>\n",
       "  <tbody>\n",
       "    <tr>\n",
       "      <th>0</th>\n",
       "      <td>2019-09-01 00:00:00</td>\n",
       "      <td>SLFNAG01</td>\n",
       "      <td>NaN</td>\n",
       "      <td>8</td>\n",
       "      <td>29.0</td>\n",
       "    </tr>\n",
       "    <tr>\n",
       "      <th>1</th>\n",
       "      <td>2019-09-01 00:00:00</td>\n",
       "      <td>SLFNAS01</td>\n",
       "      <td>NaN</td>\n",
       "      <td>8</td>\n",
       "      <td>3.0</td>\n",
       "    </tr>\n",
       "    <tr>\n",
       "      <th>2</th>\n",
       "      <td>2019-09-01 00:00:00</td>\n",
       "      <td>SLFNBD01</td>\n",
       "      <td>NaN</td>\n",
       "      <td>8</td>\n",
       "      <td>16.0</td>\n",
       "    </tr>\n",
       "    <tr>\n",
       "      <th>3</th>\n",
       "      <td>2019-09-01 00:00:00</td>\n",
       "      <td>SLFNCE01</td>\n",
       "      <td>NaN</td>\n",
       "      <td>8</td>\n",
       "      <td>1.0</td>\n",
       "    </tr>\n",
       "    <tr>\n",
       "      <th>4</th>\n",
       "      <td>2019-09-01 00:00:00</td>\n",
       "      <td>SLFNCH01</td>\n",
       "      <td>NaN</td>\n",
       "      <td>8</td>\n",
       "      <td>49.0</td>\n",
       "    </tr>\n",
       "  </tbody>\n",
       "</table>\n",
       "</div>"
      ],
      "text/plain": [
       "     PERIOD_START_TIME NEID_NAME CELL_NAME  cellID  \\\n",
       "0  2019-09-01 00:00:00  SLFNAG01       NaN       8   \n",
       "1  2019-09-01 00:00:00  SLFNAS01       NaN       8   \n",
       "2  2019-09-01 00:00:00  SLFNBD01       NaN       8   \n",
       "3  2019-09-01 00:00:00  SLFNCE01       NaN       8   \n",
       "4  2019-09-01 00:00:00  SLFNCH01       NaN       8   \n",
       "\n",
       "   Número máximo de usuários conectados em RRC (acumulado no espaço)  \n",
       "0                                               29.0                  \n",
       "1                                                3.0                  \n",
       "2                                               16.0                  \n",
       "3                                                1.0                  \n",
       "4                                               49.0                  "
      ]
     },
     "execution_count": 69,
     "metadata": {},
     "output_type": "execute_result"
    }
   ],
   "source": [
    "df_hua_b.head()"
   ]
  },
  {
   "cell_type": "code",
   "execution_count": 64,
   "metadata": {},
   "outputs": [],
   "source": [
    "def chave(a,b,c):\n",
    "    return str(a)+str(b)+str(c)\n"
   ]
  },
  {
   "cell_type": "code",
   "execution_count": 65,
   "metadata": {},
   "outputs": [],
   "source": [
    "df_hua_a['NAME']=df_hua_a.apply(lambda row: chave(row['ENODEB_NAME'],row['CELL_NAME'],row['cellID']),axis=1)"
   ]
  },
  {
   "cell_type": "code",
   "execution_count": 70,
   "metadata": {},
   "outputs": [],
   "source": [
    "df_hua_b['NAME']=df_hua_b.apply(lambda row: chave(row['NEID_NAME'],row['CELL_NAME'],row['cellID']),axis=1)"
   ]
  },
  {
   "cell_type": "code",
   "execution_count": 71,
   "metadata": {},
   "outputs": [],
   "source": [
    "df_hua_a['RRC']=df_hua_a['Número máximo de usuários conectados em RRC (acumulado no espaço)']\n",
    "df_hua_b['RRC']=df_hua_b['Número máximo de usuários conectados em RRC (acumulado no espaço)']\n",
    "df_hua_a.drop(columns=['ENODEB_NAME','Número máximo de usuários conectados em RRC (acumulado no espaço)'],inplace=True)\n",
    "df_hua_b.drop(columns=['NEID_NAME','Número máximo de usuários conectados em RRC (acumulado no espaço)'],inplace=True)"
   ]
  },
  {
   "cell_type": "code",
   "execution_count": 78,
   "metadata": {},
   "outputs": [],
   "source": [
    "df_hua=pd.concat([df_hua_b,df_hua_a],axis=0,ignore_index=True)"
   ]
  },
  {
   "cell_type": "code",
   "execution_count": 80,
   "metadata": {},
   "outputs": [
    {
     "name": "stdout",
     "output_type": "stream",
     "text": [
      "<class 'pandas.core.frame.DataFrame'>\n",
      "RangeIndex: 13534076 entries, 0 to 13534075\n",
      "Data columns (total 5 columns):\n",
      "PERIOD_START_TIME    object\n",
      "CELL_NAME            object\n",
      "cellID               object\n",
      "NAME                 object\n",
      "RRC                  float64\n",
      "dtypes: float64(1), object(4)\n",
      "memory usage: 516.3+ MB\n"
     ]
    }
   ],
   "source": [
    "df_hua_a.info()"
   ]
  },
  {
   "cell_type": "code",
   "execution_count": 81,
   "metadata": {},
   "outputs": [
    {
     "name": "stdout",
     "output_type": "stream",
     "text": [
      "<class 'pandas.core.frame.DataFrame'>\n",
      "RangeIndex: 2296148 entries, 0 to 2296147\n",
      "Data columns (total 5 columns):\n",
      "PERIOD_START_TIME    object\n",
      "CELL_NAME            object\n",
      "cellID               int64\n",
      "NAME                 object\n",
      "RRC                  float64\n",
      "dtypes: float64(1), int64(1), object(3)\n",
      "memory usage: 87.6+ MB\n"
     ]
    }
   ],
   "source": [
    "df_hua_b.info()"
   ]
  },
  {
   "cell_type": "code",
   "execution_count": 82,
   "metadata": {},
   "outputs": [
    {
     "name": "stdout",
     "output_type": "stream",
     "text": [
      "<class 'pandas.core.frame.DataFrame'>\n",
      "RangeIndex: 15830224 entries, 0 to 15830223\n",
      "Data columns (total 5 columns):\n",
      "PERIOD_START_TIME    object\n",
      "CELL_NAME            object\n",
      "cellID               object\n",
      "NAME                 object\n",
      "RRC                  float64\n",
      "dtypes: float64(1), object(4)\n",
      "memory usage: 603.9+ MB\n"
     ]
    }
   ],
   "source": [
    "df_hua.info()"
   ]
  },
  {
   "cell_type": "code",
   "execution_count": 83,
   "metadata": {},
   "outputs": [
    {
     "data": {
      "text/html": [
       "<div>\n",
       "<style scoped>\n",
       "    .dataframe tbody tr th:only-of-type {\n",
       "        vertical-align: middle;\n",
       "    }\n",
       "\n",
       "    .dataframe tbody tr th {\n",
       "        vertical-align: top;\n",
       "    }\n",
       "\n",
       "    .dataframe thead th {\n",
       "        text-align: right;\n",
       "    }\n",
       "</style>\n",
       "<table border=\"1\" class=\"dataframe\">\n",
       "  <thead>\n",
       "    <tr style=\"text-align: right;\">\n",
       "      <th></th>\n",
       "      <th>PERIOD_START_TIME</th>\n",
       "      <th>CELL_NAME</th>\n",
       "      <th>cellID</th>\n",
       "      <th>NAME</th>\n",
       "      <th>RRC</th>\n",
       "    </tr>\n",
       "  </thead>\n",
       "  <tbody>\n",
       "    <tr>\n",
       "      <th>0</th>\n",
       "      <td>2019-09-01 00:00:00</td>\n",
       "      <td>NaN</td>\n",
       "      <td>8</td>\n",
       "      <td>SLFNAG01nan8</td>\n",
       "      <td>29.0</td>\n",
       "    </tr>\n",
       "    <tr>\n",
       "      <th>1</th>\n",
       "      <td>2019-09-01 00:00:00</td>\n",
       "      <td>NaN</td>\n",
       "      <td>8</td>\n",
       "      <td>SLFNAS01nan8</td>\n",
       "      <td>3.0</td>\n",
       "    </tr>\n",
       "    <tr>\n",
       "      <th>2</th>\n",
       "      <td>2019-09-01 00:00:00</td>\n",
       "      <td>NaN</td>\n",
       "      <td>8</td>\n",
       "      <td>SLFNBD01nan8</td>\n",
       "      <td>16.0</td>\n",
       "    </tr>\n",
       "    <tr>\n",
       "      <th>3</th>\n",
       "      <td>2019-09-01 00:00:00</td>\n",
       "      <td>NaN</td>\n",
       "      <td>8</td>\n",
       "      <td>SLFNCE01nan8</td>\n",
       "      <td>1.0</td>\n",
       "    </tr>\n",
       "    <tr>\n",
       "      <th>4</th>\n",
       "      <td>2019-09-01 00:00:00</td>\n",
       "      <td>NaN</td>\n",
       "      <td>8</td>\n",
       "      <td>SLFNCH01nan8</td>\n",
       "      <td>49.0</td>\n",
       "    </tr>\n",
       "  </tbody>\n",
       "</table>\n",
       "</div>"
      ],
      "text/plain": [
       "     PERIOD_START_TIME CELL_NAME cellID          NAME   RRC\n",
       "0  2019-09-01 00:00:00       NaN      8  SLFNAG01nan8  29.0\n",
       "1  2019-09-01 00:00:00       NaN      8  SLFNAS01nan8   3.0\n",
       "2  2019-09-01 00:00:00       NaN      8  SLFNBD01nan8  16.0\n",
       "3  2019-09-01 00:00:00       NaN      8  SLFNCE01nan8   1.0\n",
       "4  2019-09-01 00:00:00       NaN      8  SLFNCH01nan8  49.0"
      ]
     },
     "execution_count": 83,
     "metadata": {},
     "output_type": "execute_result"
    }
   ],
   "source": [
    "df_hua.head()"
   ]
  },
  {
   "cell_type": "code",
   "execution_count": 84,
   "metadata": {},
   "outputs": [],
   "source": [
    "df_hua.drop(columns=['CELL_NAME','cellID'],inplace=True)"
   ]
  },
  {
   "cell_type": "code",
   "execution_count": 93,
   "metadata": {},
   "outputs": [],
   "source": [
    "#coluna dia do mês\n",
    "df_hua['DIA']=df_hua.PERIOD_START_TIME.apply(dia)\n",
    "\n",
    "#calculo do RRC médio\n",
    "df_hua_max=df_hua.groupby(by=['NAME','DIA']).max()\n",
    "df_hua_sum_max=df_hua_max.groupby('NAME').sum()\n",
    "df_hua_MAX=df_hua_max.groupby('NAME').max()\n",
    "df_rrc_hua=pd.merge(df_hua_sum_max,df_hua_MAX,on='NAME')\n",
    "df_rrc_hua['RRC_MEAN']=(df_rrc_hua['RRC_x'] - df_rrc_hua['RRC_y'])/29\n",
    "detalhe=df_hua_max.unstack()\n",
    "\n",
    "#geração do report\n",
    "writer = pd.ExcelWriter('Report_hua_set_cell.xlsx', engine='xlsxwriter')\n",
    "df_rrc_hua.to_excel(writer, 'Base')\n",
    "detalhe.to_excel(writer,'detalhe')\n",
    "writer.save()"
   ]
  }
 ],
 "metadata": {
  "kernelspec": {
   "display_name": "Python 3",
   "language": "python",
   "name": "python3"
  },
  "language_info": {
   "codemirror_mode": {
    "name": "ipython",
    "version": 3
   },
   "file_extension": ".py",
   "mimetype": "text/x-python",
   "name": "python",
   "nbconvert_exporter": "python",
   "pygments_lexer": "ipython3",
   "version": "3.7.3"
  }
 },
 "nbformat": 4,
 "nbformat_minor": 2
}
