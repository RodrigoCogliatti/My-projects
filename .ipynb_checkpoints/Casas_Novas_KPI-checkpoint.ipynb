{
 "cells": [
  {
   "cell_type": "code",
   "execution_count": 2,
   "metadata": {},
   "outputs": [],
   "source": [
    "import pandas as pd\n",
    "import os"
   ]
  },
  {
   "cell_type": "code",
   "execution_count": 3,
   "metadata": {},
   "outputs": [],
   "source": [
    "os.chdir('C:/Users/f8026379/Documents/MANP/Budget 2020-2022/KPIs Acesso')\n",
    "CN_2021=pd.read_excel('KPIs Budget 2021 Acesso BackHaul V14 (Envio).xlsx',sheet_name='GERAL_2021',skiprows=9)\n",
    "CN_2021=CN_2021[CN_2021['TOTAL NEW ADDRESS']>0]"
   ]
  },
  {
   "cell_type": "code",
   "execution_count": 4,
   "metadata": {},
   "outputs": [],
   "source": [
    "sites=[]\n",
    "for i in CN_2021.index:\n",
    "    c=CN_2021['TOTAL NEW ADDRESS'][i]\n",
    "    x=1\n",
    "    while x<=c:\n",
    "        w=[str(CN_2021.IBGE[i])+'_'+str(x),CN_2021['PROJECT'][i],CN_2021['700 NEW'][i],CN_2021['850 NEW'][i],CN_2021['1800 NEW'][i],CN_2021['2100 NEW'][i],CN_2021['2600 NEW'][i],CN_2021['2600P NEW'][i],CN_2021['UMTS850'][i],CN_2021['UMTS2100'][i]]\n",
    "        sites.append(w)\n",
    "        x=x+1"
   ]
  },
  {
   "cell_type": "code",
   "execution_count": 6,
   "metadata": {},
   "outputs": [],
   "source": [
    "casas=pd.DataFrame(sites,columns=['Site','Project','700 NEW','850 NEW','1800 NEW','2100 NEW','2600 NEW','2600P NEW','UMTS850','UMTS2100'])"
   ]
  },
  {
   "cell_type": "code",
   "execution_count": 7,
   "metadata": {},
   "outputs": [],
   "source": [
    "writer = pd.ExcelWriter('CN2021.xlsx', engine='xlsxwriter')\n",
    "casas.to_excel(writer, 'Base',index=False)\n",
    "writer.save()"
   ]
  }
 ],
 "metadata": {
  "kernelspec": {
   "display_name": "Python 3",
   "language": "python",
   "name": "python3"
  },
  "language_info": {
   "codemirror_mode": {
    "name": "ipython",
    "version": 3
   },
   "file_extension": ".py",
   "mimetype": "text/x-python",
   "name": "python",
   "nbconvert_exporter": "python",
   "pygments_lexer": "ipython3",
   "version": "3.7.3"
  }
 },
 "nbformat": 4,
 "nbformat_minor": 2
}
