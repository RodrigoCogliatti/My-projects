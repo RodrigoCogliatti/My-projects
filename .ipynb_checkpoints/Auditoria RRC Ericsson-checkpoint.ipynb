{
 "cells": [
  {
   "cell_type": "code",
   "execution_count": 34,
   "metadata": {},
   "outputs": [],
   "source": [
    "import pandas as pd\n",
    "from pandas import Series,DataFrame\n",
    "import numpy as np\n",
    "import os\n",
    "\n",
    "#seleção da pasta\n",
    "os.chdir('C:/Users/f8026379/Documents/MANP/Budget 2019/PAYG/Ericsson/Auditoria_Q4')\n",
    "\n",
    "#função para extração do dia do time stamp \n",
    "def dia(d):\n",
    "    return d[0:10]\n",
    "\n",
    "#abertura de arquivos\n",
    "df_eri_a=pd.read_csv('MANAGEDELEMENT_NAME_hr_2019-10-01_2019-10-31_20191219162339201_95_67.csv',sep='\\t')\n",
    "df_eri_b=pd.read_csv('MECONTEXT_NAME_hr_2019-10-01_2019-10-31_2019121116185863_155_896.csv',sep='\\t')\n",
    "df_eri_c=pd.read_csv('MANAGEDELEMENT_NAME_hr_2019-11-01_2019-11-30_20191220134319790_377_164.csv',sep='\\t')\n",
    "df_eri_d=pd.read_csv('MECONTEXT_NAME_hr_2019-11-01_2019-11-30_20191211164902786_272_28.csv',sep='\\t')\n",
    "df_eri_e=pd.read_csv('MANAGEDELEMENT_NAME_hr_2019-12-01_2019-12-31_20200107114344645_8_556.csv',sep='\\t')\n",
    "df_eri_f=pd.read_csv('MECONTEXT_NAME_hr_2019-12-01_2019-12-31_20200106175112759_246_609.csv',sep='\\t')\n",
    "\n",
    "#padronização de colunas e limpeza de base\n",
    "df_eri_a['NAME']=df_eri_a['MANAGEDELEMENT_NAME']\n",
    "df_eri_b['NAME']=df_eri_b['MECONTEXT_NAME']\n",
    "df_eri_c['NAME']=df_eri_c['MANAGEDELEMENT_NAME']\n",
    "df_eri_d['NAME']=df_eri_d['MECONTEXT_NAME']\n",
    "df_eri_e['NAME']=df_eri_e['MANAGEDELEMENT_NAME']\n",
    "df_eri_f['NAME']=df_eri_f['MECONTEXT_NAME']\n",
    "df_eri_a.drop(columns='MANAGEDELEMENT_NAME',inplace=True)\n",
    "df_eri_b.drop(columns='MECONTEXT_NAME',inplace=True)\n",
    "df_eri_c.drop(columns='MANAGEDELEMENT_NAME',inplace=True)\n",
    "df_eri_d.drop(columns='MECONTEXT_NAME',inplace=True)\n",
    "df_eri_e.drop(columns='MANAGEDELEMENT_NAME',inplace=True)\n",
    "df_eri_f.drop(columns='MECONTEXT_NAME',inplace=True)\n",
    "\n",
    "#união dos arquivos de medição\n",
    "df_eri=pd.concat([df_eri_a,df_eri_b,df_eri_c,df_eri_d,df_eri_e,df_eri_f])\n",
    "df_eri.fillna(0,inplace=True)\n",
    "\n",
    "#coluna dia do mês\n",
    "df_eri['DIA']=df_eri.PERIOD_START_TIME.apply(dia)\n",
    "\n",
    "\n",
    "#calculo do RRC médio\n",
    "df_eri_max=df_eri.groupby(by=['NAME','DIA']).max()\n",
    "df_eri_sum_max=df_eri_max.groupby('NAME').sum()\n",
    "df_eri_MAX=df_eri.groupby(by='NAME').max()\n",
    "#df_rrc_eri=pd.merge(df_eri_sum_max,df_eri_MAX,on='NAME')\n",
    "#df_rrc_eri['RRC_MEAN']=(df_rrc_eri['USER ENDB MAX SUM_x'] - df_rrc_eri['USER ENDB MAX SUM_y'])/51\n",
    "detalhe=df_eri_max.unstack()\n",
    "\n",
    "#geração do report\n",
    "writer = pd.ExcelWriter('Report_Q4.xlsx', engine='xlsxwriter')\n",
    "#df_rrc_eri.to_excel(writer, 'Base')\n",
    "detalhe.to_excel(writer, 'Detalhe')\n",
    "writer.save()"
   ]
  },
  {
   "cell_type": "code",
   "execution_count": null,
   "metadata": {},
   "outputs": [],
   "source": []
  }
 ],
 "metadata": {
  "kernelspec": {
   "display_name": "Python 3",
   "language": "python",
   "name": "python3"
  },
  "language_info": {
   "codemirror_mode": {
    "name": "ipython",
    "version": 3
   },
   "file_extension": ".py",
   "mimetype": "text/x-python",
   "name": "python",
   "nbconvert_exporter": "python",
   "pygments_lexer": "ipython3",
   "version": "3.7.3"
  }
 },
 "nbformat": 4,
 "nbformat_minor": 2
}
