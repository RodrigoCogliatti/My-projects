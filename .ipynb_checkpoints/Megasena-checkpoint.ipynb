{
 "cells": [
  {
   "cell_type": "markdown",
   "metadata": {
    "colab_type": "text",
    "id": "view-in-github"
   },
   "source": [
    "<a href=\"https://colab.research.google.com/github/cpmonteiro74/My-projects/blob/master/Megasena.ipynb\" target=\"_parent\"><img src=\"https://colab.research.google.com/assets/colab-badge.svg\" alt=\"Open In Colab\"/></a>"
   ]
  },
  {
   "cell_type": "code",
   "execution_count": 1,
   "metadata": {
    "colab": {
     "base_uri": "https://localhost:8080/",
     "height": 52
    },
    "colab_type": "code",
    "id": "AJXSuFQjZsWx",
    "outputId": "769d8ecc-ec4c-4c83-960a-cec225613ae2"
   },
   "outputs": [
    {
     "name": "stdout",
     "output_type": "stream",
     "text": [
      "GERADOR DE APOSTAS NA MEGASENA\n",
      "\n",
      "Entre com o numero de apostas: \n",
      "12\n",
      "Entre com o numero de palpites por jogo: \n",
      "7\n",
      "[28, 29, 37, 50, 54, 56, 58]\n",
      "[3, 24, 33, 34, 35, 38, 50]\n",
      "[9, 12, 27, 31, 32, 55, 58]\n",
      "[5, 8, 9, 11, 22, 47, 52]\n",
      "[4, 13, 18, 19, 45, 53, 55]\n",
      "[18, 29, 35, 38, 54, 59, 60]\n",
      "[6, 14, 25, 29, 39, 49, 57]\n",
      "[4, 11, 31, 36, 56, 57, 58]\n",
      "[7, 18, 30, 36, 44, 48, 56]\n",
      "[8, 24, 27, 36, 38, 43, 45]\n",
      "[15, 16, 22, 26, 28, 32, 47]\n",
      "[16, 19, 23, 29, 32, 33, 46]\n",
      "\n",
      "\n",
      "Tecle Enter para fechar \n"
     ]
    }
   ],
   "source": [
    "import random\n",
    "w=open(\"megasena.txt\",\"w\")\n",
    "\n",
    "def aposta(a):\n",
    "   \n",
    "   lista1=[]\n",
    "   while a>0:\n",
    "         x= (random.randint(1,60))\n",
    "         if x in lista1:\n",
    "            pass\n",
    "         else:\n",
    "            lista1.append(x)\n",
    "            a-=1\n",
    "            lista1.sort()\n",
    "       \n",
    "   print (lista1)\n",
    "   for i in lista1:\n",
    "      w.writelines(str(i)+\" \")\n",
    "   w.writelines(\"\\n\")\n",
    "      \n",
    "print(\"GERADOR DE APOSTAS NA MEGASENA\\n\")\n",
    "\n",
    "n = 0\n",
    "while n == 0:\n",
    "    j = input(\"Entre com o numero de apostas: \\n\")\n",
    "    if not j.isdigit():\n",
    "        print(\" Valor informado \" + j + \" não é um número valido!\\n\", end= \" \")\n",
    "        #print(\"Digite apenas numeros cabecudo! \\n\")\n",
    "    else:\n",
    "        j = int(j)\n",
    "        n = -1\n",
    "n = 0\n",
    "while n == 0:\n",
    "   p=(input(\"Entre com o numero de palpites por jogo: \\n\"))\n",
    "   if not p.isdigit():\n",
    "        print(\" Valor informado \" + p + \" não é um número valido!\\n\", end= \" \")\n",
    "        #print(\"Digite apenas numeros cabecudo! \\n\")\n",
    "   else:\n",
    "      p = int(p)\n",
    "      n = -1\n",
    "      while (p<6 or p>15):\n",
    "         print(\"NUMERO INVALIDO!\")\n",
    "         p=int(input(\"Entre com um numero entre 6 e 15: \\n\"))\n",
    "     \n",
    "while j>0:\n",
    "   aposta (p)\n",
    "   j-=1\n",
    "w.close()\n",
    "print(\"\\n\")\n",
    "q=input(\"Tecle Enter para fechar \")\n",
    "\n",
    "\n"
   ]
  },
  {
   "cell_type": "code",
   "execution_count": 0,
   "metadata": {
    "colab": {},
    "colab_type": "code",
    "id": "J2NjGFnbZ3Tv"
   },
   "outputs": [],
   "source": []
  }
 ],
 "metadata": {
  "colab": {
   "include_colab_link": true,
   "name": "Megasena.ipynb",
   "provenance": [],
   "version": "0.3.2"
  },
  "kernelspec": {
   "display_name": "Python 3",
   "language": "python",
   "name": "python3"
  },
  "language_info": {
   "codemirror_mode": {
    "name": "ipython",
    "version": 3
   },
   "file_extension": ".py",
   "mimetype": "text/x-python",
   "name": "python",
   "nbconvert_exporter": "python",
   "pygments_lexer": "ipython3",
   "version": "3.7.3"
  }
 },
 "nbformat": 4,
 "nbformat_minor": 1
}
