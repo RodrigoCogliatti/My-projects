{
  "nbformat": 4,
  "nbformat_minor": 0,
  "metadata": {
    "colab": {
      "name": "Megasena.ipynb",
      "version": "0.3.2",
      "provenance": [],
      "include_colab_link": true
    },
    "kernelspec": {
      "name": "python3",
      "display_name": "Python 3"
    }
  },
  "cells": [
    {
      "cell_type": "markdown",
      "metadata": {
        "id": "view-in-github",
        "colab_type": "text"
      },
      "source": [
        "<a href=\"https://colab.research.google.com/github/cpmonteiro74/My-projects/blob/master/Megasena.ipynb\" target=\"_parent\"><img src=\"https://colab.research.google.com/assets/colab-badge.svg\" alt=\"Open In Colab\"/></a>"
      ]
    },
    {
      "cell_type": "code",
      "metadata": {
        "id": "AJXSuFQjZsWx",
        "colab_type": "code",
        "outputId": "769d8ecc-ec4c-4c83-960a-cec225613ae2",
        "colab": {
          "base_uri": "https://localhost:8080/",
          "height": 52
        }
      },
      "source": [
        "import random\n",
        "w=open(\"megasena.txt\",\"w\")\n",
        "\n",
        "def aposta(a):\n",
        "   \n",
        "   lista1=[]\n",
        "   while a>0:\n",
        "         x= (random.randint(1,60))\n",
        "         if x in lista1:\n",
        "            pass\n",
        "         else:\n",
        "            lista1.append(x)\n",
        "            a-=1\n",
        "            lista1.sort()\n",
        "       \n",
        "   print (lista1)\n",
        "   for i in lista1:\n",
        "      w.writelines(str(i)+\" \")\n",
        "   w.writelines(\"\\n\")\n",
        "      \n",
        "print(\"GERADOR DE APOSTAS NA MEGASENA\\n\")\n",
        "\n",
        "n = 0\n",
        "while n == 0:\n",
        "    j = input(\"Entre com o numero de apostas: \\n\")\n",
        "    if not j.isdigit():\n",
        "        print(\" Valor informado \" + j + \" não é um número valido!\\n\", end= \" \")\n",
        "        #print(\"Digite apenas numeros cabecudo! \\n\")\n",
        "    else:\n",
        "        j = int(j)\n",
        "        n = -1\n",
        "n = 0\n",
        "while n == 0:\n",
        "   p=(input(\"Entre com o numero de palpites por jogo: \\n\"))\n",
        "   if not p.isdigit():\n",
        "        print(\" Valor informado \" + p + \" não é um número valido!\\n\", end= \" \")\n",
        "        #print(\"Digite apenas numeros cabecudo! \\n\")\n",
        "   else:\n",
        "      p = int(p)\n",
        "      n = -1\n",
        "      while (p<6 or p>15):\n",
        "         print(\"NUMERO INVALIDO!\")\n",
        "         p=int(input(\"Entre com um numero entre 6 e 15: \\n\"))\n",
        "     \n",
        "while j>0:\n",
        "   aposta (p)\n",
        "   j-=1\n",
        "w.close()\n",
        "print(\"\\n\")\n",
        "q=input(\"Tecle Enter para fechar \")\n",
        "\n",
        "\n"
      ],
      "execution_count": 0,
      "outputs": [
        {
          "output_type": "stream",
          "text": [
            "GERADOR DE APOSTAS NA MEGASENA\n",
            "\n"
          ],
          "name": "stdout"
        }
      ]
    },
    {
      "cell_type": "code",
      "metadata": {
        "id": "J2NjGFnbZ3Tv",
        "colab_type": "code",
        "colab": {}
      },
      "source": [
        ""
      ],
      "execution_count": 0,
      "outputs": []
    }
  ]
}