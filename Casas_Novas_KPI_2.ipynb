{
 "cells": [
  {
   "cell_type": "code",
   "execution_count": 97,
   "metadata": {},
   "outputs": [],
   "source": [
    "import pandas as pd\n",
    "from pandas import Series,DataFrame\n",
    "import numpy as np\n",
    "import os\n",
    "\n",
    "#abertura de bases\n",
    "os.chdir('C:/Users/f8026379/Documents/MANP/Budget 2020-2022/KPIs Acesso')\n",
    "CN_2021=pd.read_excel('KPIs Budget 2021 Acesso BackHaul V14 (Envio).xlsx',sheet_name='GERAL_2021',skiprows=9,\n",
    "                     usecols=['Prioridade','CAC','MACRO PROJECT','PROJECT','DETALHE','IBGE','MUNICÍPIO','UF','ANF','Regional','Pop. Urb.','VENDOR LEGADO',\n",
    "                              'VENDOR 700','TOTAL NEW ADDRESS','TOTAL NEW LAYER','eNodeB Full NEW SINGLE','eNodeB Full NEW DUAL','eNodeB Full NEW TRI','eNodeB Full NEW QUAD'\n",
    "                                ,'700 NEW','850 NEW','1800 NEW','2100 NEW','2600 NEW','2600P NEW','UMTS850','UMTS2100'])"
   ]
  },
  {
   "cell_type": "code",
   "execution_count": 98,
   "metadata": {},
   "outputs": [],
   "source": [
    "CN_2021=CN_2021[CN_2021['TOTAL NEW ADDRESS']>0]\n",
    "CN_2021.reset_index(inplace=True)\n",
    "CN_2021.drop(columns='index',inplace=True)"
   ]
  },
  {
   "cell_type": "code",
   "execution_count": 99,
   "metadata": {},
   "outputs": [],
   "source": [
    "CN_2021['END_ID']=\"\""
   ]
  },
  {
   "cell_type": "code",
   "execution_count": 100,
   "metadata": {},
   "outputs": [],
   "source": [
    "Base=DataFrame(columns=Series(CN_2021.columns))\n",
    "for i in CN_2021.index:\n",
    "    c=CN_2021['TOTAL NEW ADDRESS'][i]\n",
    "    j=1\n",
    "    while j<=c:\n",
    "        a2=DataFrame(data=[Series(CN_2021.values[i]).values],columns=col)\n",
    "        a2['END_ID']=str(CN_2021.IBGE[i])+'_'+str(j)\n",
    "        Base=Base.append(a2,ignore_index=True)\n",
    "        j=j+1"
   ]
  },
  {
   "cell_type": "code",
   "execution_count": 101,
   "metadata": {},
   "outputs": [],
   "source": [
    "writer = pd.ExcelWriter('CN2021.xlsx', engine='xlsxwriter')\n",
    "Base.to_excel(writer, 'Base',index=False)\n",
    "writer.save()"
   ]
  },
  {
   "cell_type": "code",
   "execution_count": null,
   "metadata": {},
   "outputs": [],
   "source": []
  }
 ],
 "metadata": {
  "kernelspec": {
   "display_name": "Python 3",
   "language": "python",
   "name": "python3"
  },
  "language_info": {
   "codemirror_mode": {
    "name": "ipython",
    "version": 3
   },
   "file_extension": ".py",
   "mimetype": "text/x-python",
   "name": "python",
   "nbconvert_exporter": "python",
   "pygments_lexer": "ipython3",
   "version": "3.7.3"
  }
 },
 "nbformat": 4,
 "nbformat_minor": 2
}
