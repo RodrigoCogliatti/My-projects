{
 "cells": [
  {
   "cell_type": "code",
   "execution_count": 1,
   "metadata": {},
   "outputs": [],
   "source": [
    "from sklearn.cluster import KMeans\n",
    "import numpy as np\n",
    "import pandas as pd\n",
    "import matplotlib.pyplot as plt\n",
    "%matplotlib inline\n"
   ]
  },
  {
   "cell_type": "code",
   "execution_count": 2,
   "metadata": {},
   "outputs": [],
   "source": [
    "data1=pd.read_excel('Sites.xlsx', sheet_name='Sheet1')"
   ]
  },
  {
   "cell_type": "code",
   "execution_count": 3,
   "metadata": {},
   "outputs": [
    {
     "data": {
      "text/plain": [
       "Index(['Operadora', 'Fornecedor', 'Regional', 'Estado', 'ANF', 'Município',\n",
       "       'IBGE', 'ENDERECO_ID', 'Lat', 'Long', 'RS'],\n",
       "      dtype='object')"
      ]
     },
     "execution_count": 3,
     "metadata": {},
     "output_type": "execute_result"
    }
   ],
   "source": [
    "data1.columns"
   ]
  },
  {
   "cell_type": "code",
   "execution_count": 4,
   "metadata": {},
   "outputs": [
    {
     "data": {
      "text/html": [
       "<div>\n",
       "<style scoped>\n",
       "    .dataframe tbody tr th:only-of-type {\n",
       "        vertical-align: middle;\n",
       "    }\n",
       "\n",
       "    .dataframe tbody tr th {\n",
       "        vertical-align: top;\n",
       "    }\n",
       "\n",
       "    .dataframe thead th {\n",
       "        text-align: right;\n",
       "    }\n",
       "</style>\n",
       "<table border=\"1\" class=\"dataframe\">\n",
       "  <thead>\n",
       "    <tr style=\"text-align: right;\">\n",
       "      <th></th>\n",
       "      <th>Operadora</th>\n",
       "      <th>Fornecedor</th>\n",
       "      <th>Regional</th>\n",
       "      <th>Estado</th>\n",
       "      <th>ANF</th>\n",
       "      <th>Município</th>\n",
       "      <th>IBGE</th>\n",
       "      <th>ENDERECO_ID</th>\n",
       "      <th>Lat</th>\n",
       "      <th>Long</th>\n",
       "      <th>RS</th>\n",
       "    </tr>\n",
       "  </thead>\n",
       "  <tbody>\n",
       "    <tr>\n",
       "      <th>0</th>\n",
       "      <td>TIM</td>\n",
       "      <td>NOKIA</td>\n",
       "      <td>TNE</td>\n",
       "      <td>AL</td>\n",
       "      <td>82</td>\n",
       "      <td>ARAPIRACA</td>\n",
       "      <td>270030</td>\n",
       "      <td>ALAIR_0004</td>\n",
       "      <td>-9.757639</td>\n",
       "      <td>-36.643472</td>\n",
       "      <td>TIM</td>\n",
       "    </tr>\n",
       "    <tr>\n",
       "      <th>1</th>\n",
       "      <td>TIM</td>\n",
       "      <td>NOKIA</td>\n",
       "      <td>TNE</td>\n",
       "      <td>AL</td>\n",
       "      <td>82</td>\n",
       "      <td>ARAPIRACA</td>\n",
       "      <td>270030</td>\n",
       "      <td>ALAIR_0006</td>\n",
       "      <td>-9.728028</td>\n",
       "      <td>-36.672917</td>\n",
       "      <td>TIM</td>\n",
       "    </tr>\n",
       "  </tbody>\n",
       "</table>\n",
       "</div>"
      ],
      "text/plain": [
       "  Operadora Fornecedor Regional Estado  ANF  Município    IBGE ENDERECO_ID  \\\n",
       "0       TIM      NOKIA      TNE     AL   82  ARAPIRACA  270030  ALAIR_0004   \n",
       "1       TIM      NOKIA      TNE     AL   82  ARAPIRACA  270030  ALAIR_0006   \n",
       "\n",
       "        Lat       Long   RS  \n",
       "0 -9.757639 -36.643472  TIM  \n",
       "1 -9.728028 -36.672917  TIM  "
      ]
     },
     "execution_count": 4,
     "metadata": {},
     "output_type": "execute_result"
    }
   ],
   "source": [
    "data1.head(2)"
   ]
  },
  {
   "cell_type": "code",
   "execution_count": 5,
   "metadata": {},
   "outputs": [],
   "source": [
    "clusData1 = data1[['Lat','Long']]\n"
   ]
  },
  {
   "cell_type": "code",
   "execution_count": 21,
   "metadata": {},
   "outputs": [
    {
     "data": {
      "text/html": [
       "<div>\n",
       "<style scoped>\n",
       "    .dataframe tbody tr th:only-of-type {\n",
       "        vertical-align: middle;\n",
       "    }\n",
       "\n",
       "    .dataframe tbody tr th {\n",
       "        vertical-align: top;\n",
       "    }\n",
       "\n",
       "    .dataframe thead th {\n",
       "        text-align: right;\n",
       "    }\n",
       "</style>\n",
       "<table border=\"1\" class=\"dataframe\">\n",
       "  <thead>\n",
       "    <tr style=\"text-align: right;\">\n",
       "      <th></th>\n",
       "      <th>Operadora</th>\n",
       "      <th>Fornecedor</th>\n",
       "      <th>Regional</th>\n",
       "      <th>Estado</th>\n",
       "      <th>ANF</th>\n",
       "      <th>Município</th>\n",
       "      <th>IBGE</th>\n",
       "      <th>ENDERECO_ID</th>\n",
       "      <th>Lat</th>\n",
       "      <th>Long</th>\n",
       "      <th>RS</th>\n",
       "    </tr>\n",
       "  </thead>\n",
       "  <tbody>\n",
       "    <tr>\n",
       "      <th>0</th>\n",
       "      <td>TIM</td>\n",
       "      <td>NOKIA</td>\n",
       "      <td>TNE</td>\n",
       "      <td>AL</td>\n",
       "      <td>82</td>\n",
       "      <td>ARAPIRACA</td>\n",
       "      <td>270030</td>\n",
       "      <td>ALAIR_0004</td>\n",
       "      <td>-9.757639</td>\n",
       "      <td>-36.643472</td>\n",
       "      <td>TIM</td>\n",
       "    </tr>\n",
       "    <tr>\n",
       "      <th>1</th>\n",
       "      <td>TIM</td>\n",
       "      <td>NOKIA</td>\n",
       "      <td>TNE</td>\n",
       "      <td>AL</td>\n",
       "      <td>82</td>\n",
       "      <td>ARAPIRACA</td>\n",
       "      <td>270030</td>\n",
       "      <td>ALAIR_0006</td>\n",
       "      <td>-9.728028</td>\n",
       "      <td>-36.672917</td>\n",
       "      <td>TIM</td>\n",
       "    </tr>\n",
       "    <tr>\n",
       "      <th>2</th>\n",
       "      <td>TIM</td>\n",
       "      <td>NOKIA</td>\n",
       "      <td>TNE</td>\n",
       "      <td>AL</td>\n",
       "      <td>82</td>\n",
       "      <td>ARAPIRACA</td>\n",
       "      <td>270030</td>\n",
       "      <td>ALAIR_0007</td>\n",
       "      <td>-9.742833</td>\n",
       "      <td>-36.649111</td>\n",
       "      <td>TIM</td>\n",
       "    </tr>\n",
       "    <tr>\n",
       "      <th>3</th>\n",
       "      <td>TIM</td>\n",
       "      <td>NOKIA</td>\n",
       "      <td>TNE</td>\n",
       "      <td>AL</td>\n",
       "      <td>82</td>\n",
       "      <td>ARAPIRACA</td>\n",
       "      <td>270030</td>\n",
       "      <td>ALAIR_0011</td>\n",
       "      <td>-9.753083</td>\n",
       "      <td>-36.657611</td>\n",
       "      <td>TIM</td>\n",
       "    </tr>\n",
       "    <tr>\n",
       "      <th>4</th>\n",
       "      <td>TIM</td>\n",
       "      <td>NOKIA</td>\n",
       "      <td>TNE</td>\n",
       "      <td>AL</td>\n",
       "      <td>82</td>\n",
       "      <td>ARAPIRACA</td>\n",
       "      <td>270030</td>\n",
       "      <td>ALAIR_0043</td>\n",
       "      <td>-9.719222</td>\n",
       "      <td>-36.670028</td>\n",
       "      <td>TIM</td>\n",
       "    </tr>\n",
       "  </tbody>\n",
       "</table>\n",
       "</div>"
      ],
      "text/plain": [
       "  Operadora Fornecedor Regional Estado  ANF  Município    IBGE ENDERECO_ID  \\\n",
       "0       TIM      NOKIA      TNE     AL   82  ARAPIRACA  270030  ALAIR_0004   \n",
       "1       TIM      NOKIA      TNE     AL   82  ARAPIRACA  270030  ALAIR_0006   \n",
       "2       TIM      NOKIA      TNE     AL   82  ARAPIRACA  270030  ALAIR_0007   \n",
       "3       TIM      NOKIA      TNE     AL   82  ARAPIRACA  270030  ALAIR_0011   \n",
       "4       TIM      NOKIA      TNE     AL   82  ARAPIRACA  270030  ALAIR_0043   \n",
       "\n",
       "        Lat       Long   RS  \n",
       "0 -9.757639 -36.643472  TIM  \n",
       "1 -9.728028 -36.672917  TIM  \n",
       "2 -9.742833 -36.649111  TIM  \n",
       "3 -9.753083 -36.657611  TIM  \n",
       "4 -9.719222 -36.670028  TIM  "
      ]
     },
     "execution_count": 21,
     "metadata": {},
     "output_type": "execute_result"
    }
   ],
   "source": [
    "data1.head()"
   ]
  },
  {
   "cell_type": "code",
   "execution_count": 13,
   "metadata": {},
   "outputs": [],
   "source": [
    "kmeans1 = KMeans(n_clusters=600,random_state=0).fit(clusData1)"
   ]
  },
  {
   "cell_type": "code",
   "execution_count": 14,
   "metadata": {
    "scrolled": true
   },
   "outputs": [
    {
     "data": {
      "text/plain": [
       "Text(0.5, 1.0, 'Sites')"
      ]
     },
     "execution_count": 14,
     "metadata": {},
     "output_type": "execute_result"
    },
    {
     "data": {
      "image/png": "[encoded data removed]",
      "text/plain": [
       "<Figure size 432x288 with 1 Axes>"
      ]
     },
     "metadata": {
      "needs_background": "light"
     },
     "output_type": "display_data"
    }
   ],
   "source": [
    "plt.scatter(clusData1['Long'],clusData1['Lat'], c=kmeans1.labels_)\n",
    "plt.title(\"Sites\")"
   ]
  },
  {
   "cell_type": "code",
   "execution_count": 15,
   "metadata": {},
   "outputs": [],
   "source": [
    "df=pd.DataFrame(kmeans1.cluster_centers_,columns=(['Lat','Long']))\n"
   ]
  },
  {
   "cell_type": "code",
   "execution_count": 20,
   "metadata": {},
   "outputs": [
    {
     "data": {
      "text/html": [
       "<div>\n",
       "<style scoped>\n",
       "    .dataframe tbody tr th:only-of-type {\n",
       "        vertical-align: middle;\n",
       "    }\n",
       "\n",
       "    .dataframe tbody tr th {\n",
       "        vertical-align: top;\n",
       "    }\n",
       "\n",
       "    .dataframe thead th {\n",
       "        text-align: right;\n",
       "    }\n",
       "</style>\n",
       "<table border=\"1\" class=\"dataframe\">\n",
       "  <thead>\n",
       "    <tr style=\"text-align: right;\">\n",
       "      <th></th>\n",
       "      <th>Lat</th>\n",
       "      <th>Long</th>\n",
       "    </tr>\n",
       "  </thead>\n",
       "  <tbody>\n",
       "    <tr>\n",
       "      <th>0</th>\n",
       "      <td>-23.547194</td>\n",
       "      <td>-46.811764</td>\n",
       "    </tr>\n",
       "    <tr>\n",
       "      <th>1</th>\n",
       "      <td>-2.572139</td>\n",
       "      <td>-44.182889</td>\n",
       "    </tr>\n",
       "    <tr>\n",
       "      <th>2</th>\n",
       "      <td>-7.153625</td>\n",
       "      <td>-34.837181</td>\n",
       "    </tr>\n",
       "    <tr>\n",
       "      <th>3</th>\n",
       "      <td>-1.354583</td>\n",
       "      <td>-48.468014</td>\n",
       "    </tr>\n",
       "    <tr>\n",
       "      <th>4</th>\n",
       "      <td>-25.415944</td>\n",
       "      <td>-49.266954</td>\n",
       "    </tr>\n",
       "  </tbody>\n",
       "</table>\n",
       "</div>"
      ],
      "text/plain": [
       "         Lat       Long\n",
       "0 -23.547194 -46.811764\n",
       "1  -2.572139 -44.182889\n",
       "2  -7.153625 -34.837181\n",
       "3  -1.354583 -48.468014\n",
       "4 -25.415944 -49.266954"
      ]
     },
     "execution_count": 20,
     "metadata": {},
     "output_type": "execute_result"
    }
   ],
   "source": [
    "df.head()"
   ]
  },
  {
   "cell_type": "code",
   "execution_count": 17,
   "metadata": {},
   "outputs": [
    {
     "data": {
      "text/plain": [
       "<matplotlib.collections.PathCollection at 0x1a4773e2ef0>"
      ]
     },
     "execution_count": 17,
     "metadata": {},
     "output_type": "execute_result"
    },
    {
     "data": {
      "image/png": "[encoded data removed]",
      "text/plain": [
       "<Figure size 432x288 with 1 Axes>"
      ]
     },
     "metadata": {
      "needs_background": "light"
     },
     "output_type": "display_data"
    }
   ],
   "source": [
    "plt.scatter(df['Long'],df['Lat'], c=df.index)\n",
    "\n"
   ]
  },
  {
   "cell_type": "code",
   "execution_count": 23,
   "metadata": {},
   "outputs": [],
   "source": [
    "df.to_excel('new_sites.xls',sheet_name='Sheet1')"
   ]
  },
  {
   "cell_type": "code",
   "execution_count": null,
   "metadata": {},
   "outputs": [],
   "source": []
  }
 ],
 "metadata": {
  "kernelspec": {
   "display_name": "Python 3",
   "language": "python",
   "name": "python3"
  },
  "language_info": {
   "codemirror_mode": {
    "name": "ipython",
    "version": 3
   },
   "file_extension": ".py",
   "mimetype": "text/x-python",
   "name": "python",
   "nbconvert_exporter": "python",
   "pygments_lexer": "ipython3",
   "version": "3.7.3"
  }
 },
 "nbformat": 4,
 "nbformat_minor": 2
}
